{
 "cells": [
  {
   "cell_type": "markdown",
   "id": "df78f723",
   "metadata": {},
   "source": [
    "1. Write a Python program to reverse a string without using any built-in string reversal functions.\n"
   ]
  },
  {
   "cell_type": "code",
   "execution_count": 1,
   "id": "49e97198",
   "metadata": {},
   "outputs": [
    {
     "data": {
      "text/plain": [
       "'gnirts eht esrever'"
      ]
     },
     "execution_count": 1,
     "metadata": {},
     "output_type": "execute_result"
    }
   ],
   "source": [
    "s = \"reverse the string\"\n",
    "s[::-1]"
   ]
  },
  {
   "cell_type": "markdown",
   "id": "aa7a1eda",
   "metadata": {},
   "source": [
    "Implement a function to check if a given string is a palindrome.\n"
   ]
  },
  {
   "cell_type": "code",
   "execution_count": 15,
   "id": "be3a9725",
   "metadata": {},
   "outputs": [],
   "source": [
    "def check_palidrome(str):\n",
    "    a.lower()\n",
    "    b  = a[::-1]\n",
    "    if a==b:\n",
    "        return \"Palindrome\"\n",
    "    else:\n",
    "        return (\"not palindrome\",b)\n"
   ]
  },
  {
   "cell_type": "code",
   "execution_count": 20,
   "id": "facc0544",
   "metadata": {},
   "outputs": [
    {
     "data": {
      "text/plain": [
       "'Palindrome'"
      ]
     },
     "execution_count": 20,
     "metadata": {},
     "output_type": "execute_result"
    }
   ],
   "source": [
    "a = \"level\"\n",
    "check_palidrome(a)"
   ]
  },
  {
   "cell_type": "markdown",
   "id": "169f3309",
   "metadata": {},
   "source": [
    "Write a program to find the largest element in a given list"
   ]
  },
  {
   "cell_type": "code",
   "execution_count": 22,
   "id": "b824951e",
   "metadata": {},
   "outputs": [
    {
     "data": {
      "text/plain": [
       "78"
      ]
     },
     "execution_count": 22,
     "metadata": {},
     "output_type": "execute_result"
    }
   ],
   "source": [
    "l = [1,7,2,8,35,78,5,2]\n",
    "l.sort()\n",
    "l[-1]"
   ]
  },
  {
   "cell_type": "markdown",
   "id": "508fbc44",
   "metadata": {},
   "source": [
    "4. Implement a function to count the occurrence of each element in a list."
   ]
  },
  {
   "cell_type": "code",
   "execution_count": 24,
   "id": "8af43310",
   "metadata": {},
   "outputs": [
    {
     "name": "stdout",
     "output_type": "stream",
     "text": [
      "{1: 2, 7: 2, 2: 2, 8: 2, 35: 1, 78: 1, 5: 2}\n"
     ]
    }
   ],
   "source": [
    "l = [1,7,2,8,35,78,5,2,5,7,8,1]\n",
    "occurance = dict()\n",
    "for i in l:\n",
    "    val = l.count(i)\n",
    "    occurance[i] = val\n",
    "print(occurance)"
   ]
  },
  {
   "cell_type": "markdown",
   "id": "d51a1f2b",
   "metadata": {},
   "source": [
    "Write a Python program to find the second largest number in a list.\n"
   ]
  },
  {
   "cell_type": "code",
   "execution_count": 29,
   "id": "3321e3a4",
   "metadata": {},
   "outputs": [
    {
     "name": "stdout",
     "output_type": "stream",
     "text": [
      "second largest element in the list is the 35\n"
     ]
    }
   ],
   "source": [
    "l = [1,7,2,8,35,78,5,2,5,7,8,1]\n",
    "l.sort(reverse=True)\n",
    "print(\"second largest element in the list is the\",l[1])"
   ]
  },
  {
   "cell_type": "markdown",
   "id": "ce7784e8",
   "metadata": {},
   "source": [
    "6. Implement a function to remove duplicate elements from a list.\n"
   ]
  },
  {
   "cell_type": "code",
   "execution_count": 31,
   "id": "7556123e",
   "metadata": {},
   "outputs": [],
   "source": [
    "def remove_duplicates(l):\n",
    "    unique_list =[i for i in l if l.count(i)<=1]\n",
    "    return unique_list"
   ]
  },
  {
   "cell_type": "code",
   "execution_count": 32,
   "id": "ea24ecaf",
   "metadata": {},
   "outputs": [
    {
     "data": {
      "text/plain": [
       "[35, 78]"
      ]
     },
     "execution_count": 32,
     "metadata": {},
     "output_type": "execute_result"
    }
   ],
   "source": [
    "l = [1,7,2,8,35,78,5,2,5,7,8,1]\n",
    "remove_duplicates(l)"
   ]
  },
  {
   "cell_type": "markdown",
   "id": "13ad2e44",
   "metadata": {},
   "source": [
    "7. Write a program to calculate the factorial of a given number."
   ]
  },
  {
   "cell_type": "code",
   "execution_count": 33,
   "id": "5f8e455e",
   "metadata": {},
   "outputs": [],
   "source": [
    "def find_factorial(n):\n",
    "    if n==0 or n==1:\n",
    "        return 1\n",
    "    else:\n",
    "        return n*find_factorial(n-1)"
   ]
  },
  {
   "cell_type": "code",
   "execution_count": 34,
   "id": "acb523e5",
   "metadata": {},
   "outputs": [
    {
     "data": {
      "text/plain": [
       "120"
      ]
     },
     "execution_count": 34,
     "metadata": {},
     "output_type": "execute_result"
    }
   ],
   "source": [
    "find_factorial(5)"
   ]
  },
  {
   "cell_type": "markdown",
   "id": "2e7ee84a",
   "metadata": {},
   "source": [
    "8. Implement a function to check if a given number is prime."
   ]
  },
  {
   "cell_type": "code",
   "execution_count": 37,
   "id": "3d9327ea",
   "metadata": {},
   "outputs": [],
   "source": [
    "def check_prime(num):\n",
    "    for i in range(2,num):\n",
    "        if num%i==0:\n",
    "            return \"not prime\"\n",
    "    return \"Prime\""
   ]
  },
  {
   "cell_type": "code",
   "execution_count": 42,
   "id": "14624d58",
   "metadata": {},
   "outputs": [
    {
     "data": {
      "text/plain": [
       "'Prime'"
      ]
     },
     "execution_count": 42,
     "metadata": {},
     "output_type": "execute_result"
    }
   ],
   "source": [
    "check_prime(2)"
   ]
  },
  {
   "cell_type": "markdown",
   "id": "c549d067",
   "metadata": {},
   "source": [
    "Write a Python program to sort a list of integers in ascending order.\n"
   ]
  },
  {
   "cell_type": "code",
   "execution_count": 51,
   "id": "0257a06e",
   "metadata": {},
   "outputs": [
    {
     "name": "stdout",
     "output_type": "stream",
     "text": [
      "[1, 1, 2, 2, 5, 5, 7, 7, 8, 8, 35, 78]\n"
     ]
    }
   ],
   "source": [
    "l = [1,7,2,8,35,78,5,2,5,7,8,1]\n",
    "l.sort()\n",
    "print(l)"
   ]
  },
  {
   "cell_type": "markdown",
   "id": "f0036a7a",
   "metadata": {},
   "source": [
    "10. Implement a function to find the sum of all numbers in a list."
   ]
  },
  {
   "cell_type": "code",
   "execution_count": 52,
   "id": "7a6c53e3",
   "metadata": {},
   "outputs": [
    {
     "name": "stdout",
     "output_type": "stream",
     "text": [
      "159\n"
     ]
    }
   ],
   "source": [
    "l = [1,7,2,8,35,78,5,2,5,7,8,1]\n",
    "print(sum(l))"
   ]
  },
  {
   "cell_type": "markdown",
   "id": "30a610b8",
   "metadata": {},
   "source": [
    "11. Write a program to find the common elements between two lists."
   ]
  },
  {
   "cell_type": "code",
   "execution_count": 53,
   "id": "65d9da3f",
   "metadata": {},
   "outputs": [
    {
     "name": "stdout",
     "output_type": "stream",
     "text": [
      "[7, 8, 35]\n"
     ]
    }
   ],
   "source": [
    "l1 = [1,7,2,8,35,78,5,2,5,7,8,1]\n",
    "l2 =  [7,8,35]\n",
    "common_items = []\n",
    "for i in l2:\n",
    "    if i in l1:\n",
    "        common_items.append(i)\n",
    "print(common_items)\n",
    "        \n"
   ]
  },
  {
   "cell_type": "markdown",
   "id": "2b50192c",
   "metadata": {},
   "source": [
    "12. Implement a function to check if a given string is an anagram of another string.\n"
   ]
  },
  {
   "cell_type": "code",
   "execution_count": 55,
   "id": "16abe7c4",
   "metadata": {},
   "outputs": [],
   "source": [
    "def anagram(str1,str2):\n",
    "    str1,str2  = str1.replace(\" \",\"\"),str2.replace(\" \",\"\")\n",
    "    str1,str2 = str1.lower(),str2.lower()\n",
    "    for i in str1:\n",
    "        if i not in str2:\n",
    "            return \"not anagram\"\n",
    "    return \"anagram\"\n",
    "    \n",
    "    "
   ]
  },
  {
   "cell_type": "markdown",
   "id": "3329cc34",
   "metadata": {},
   "source": [
    "13. Write a Python program to generate all permutations of a given string.\n"
   ]
  },
  {
   "cell_type": "code",
   "execution_count": 5,
   "id": "d3c56fe3",
   "metadata": {},
   "outputs": [
    {
     "name": "stdout",
     "output_type": "stream",
     "text": [
      "abc\n",
      "acb\n",
      "bac\n",
      "bca\n",
      "cab\n",
      "cba\n"
     ]
    }
   ],
   "source": [
    "def permute_string(string):\n",
    "    # Base case: If the string has only one character, return the string itself as a single permutation\n",
    "    if len(string) == 1:\n",
    "        return [string]\n",
    "\n",
    "    # List to store all permutations\n",
    "    permutations = []\n",
    "\n",
    "    # Iterate through each character in the string\n",
    "    for i in range(len(string)):\n",
    "        # Fix the current character as the first character\n",
    "        fixed_char = string[i]\n",
    "\n",
    "        # Generate all permutations of the remaining characters\n",
    "        remaining_chars = string[:i] + string[i+1:]\n",
    "        sub_permutations = permute_string(remaining_chars)\n",
    "\n",
    "        # Append the fixed character to each permutation of the remaining characters\n",
    "        for permutation in sub_permutations:\n",
    "            permutations.append(fixed_char + permutation)\n",
    "\n",
    "    return permutations\n",
    "\n",
    "# Example usage:\n",
    "input_string = \"abc\"\n",
    "permutations = permute_string(input_string)\n",
    "for permutation in permutations:\n",
    "    print(permutation)\n"
   ]
  },
  {
   "cell_type": "markdown",
   "id": "be130b40",
   "metadata": {},
   "source": [
    "14. Implement a function to calculate the Fibonacci sequence up to a given number of terms."
   ]
  },
  {
   "cell_type": "code",
   "execution_count": 23,
   "id": "2cd99b00",
   "metadata": {},
   "outputs": [],
   "source": [
    "def fibonacci(n):\n",
    "    series = []\n",
    "    a,b = 0,1\n",
    "    for i in range(n):\n",
    "        series.append(a)\n",
    "        a,b = b,b+a\n",
    "    return series\n",
    "        \n",
    "    \n",
    "        "
   ]
  },
  {
   "cell_type": "markdown",
   "id": "977f55b3",
   "metadata": {},
   "source": [
    "15. Write a program to find the median of a list of numbers."
   ]
  },
  {
   "cell_type": "code",
   "execution_count": 39,
   "id": "0b725bcd",
   "metadata": {},
   "outputs": [],
   "source": [
    "def median(l):\n",
    "    l.sort()\n",
    "    n = len(l)\n",
    "    if n%2!=0:\n",
    "        index = int((n+1)/2)\n",
    "        return l[index-1]\n",
    "    else:\n",
    "        ind = int(n/2)\n",
    "        val = l[ind-1] +l[ind]\n",
    "        return val/2\n",
    "        \n",
    "    "
   ]
  },
  {
   "cell_type": "markdown",
   "id": "0a8ccada",
   "metadata": {},
   "source": [
    "16. Implement a function to check if a given list is sorted in non-decreasing order.\n"
   ]
  },
  {
   "cell_type": "code",
   "execution_count": 47,
   "id": "0ec1b5a2",
   "metadata": {},
   "outputs": [],
   "source": [
    "def check_ascending(l):\n",
    "    for i in range(len(l)-1):\n",
    "        if l[i]>l[i+1]:\n",
    "            return \"not in ascending order\"\n",
    "    return \"ascending order\""
   ]
  },
  {
   "cell_type": "code",
   "execution_count": 49,
   "id": "8693d4bd",
   "metadata": {},
   "outputs": [
    {
     "data": {
      "text/plain": [
       "'not in ascending order'"
      ]
     },
     "execution_count": 49,
     "metadata": {},
     "output_type": "execute_result"
    }
   ],
   "source": [
    "check_ascending([1,5,9,8])"
   ]
  },
  {
   "cell_type": "markdown",
   "id": "b68212df",
   "metadata": {},
   "source": [
    "17. Write a Python program to find the intersection of two lists.\n"
   ]
  },
  {
   "cell_type": "code",
   "execution_count": 53,
   "id": "ba635d5b",
   "metadata": {},
   "outputs": [
    {
     "name": "stdout",
     "output_type": "stream",
     "text": [
      "[7]\n"
     ]
    }
   ],
   "source": [
    "l1 = [7,21,49]\n",
    "l2 =  [7,8,35]\n",
    "intersection = []\n",
    "for i in l2:\n",
    "    if i in l1:\n",
    "        intersection.append(i)\n",
    "print(intersection)"
   ]
  },
  {
   "cell_type": "markdown",
   "id": "a712d346",
   "metadata": {},
   "source": [
    "18. Implement a function to find the maximum subarray sum in a given list."
   ]
  },
  {
   "cell_type": "code",
   "execution_count": 54,
   "id": "a97483b3",
   "metadata": {},
   "outputs": [],
   "source": [
    "def max_subarray_sum(lst):\n",
    "    max_sum = float('-inf')  # Initialize max_sum as negative infinity\n",
    "    current_sum = 0  # Initialize current_sum as 0\n",
    "\n",
    "    for num in lst:\n",
    "        current_sum += num\n",
    "\n",
    "        # If current_sum becomes negative, reset it to 0\n",
    "        if current_sum < 0:\n",
    "            current_sum = 0\n",
    "\n",
    "        # Update max_sum if current_sum is greater\n",
    "        if current_sum > max_sum:\n",
    "            max_sum = current_sum\n",
    "\n",
    "    return max_sum\n"
   ]
  },
  {
   "cell_type": "code",
   "execution_count": 55,
   "id": "b2ed7592",
   "metadata": {},
   "outputs": [
    {
     "data": {
      "text/plain": [
       "77"
      ]
     },
     "execution_count": 55,
     "metadata": {},
     "output_type": "execute_result"
    }
   ],
   "source": [
    "max_subarray_sum(l1)"
   ]
  },
  {
   "cell_type": "markdown",
   "id": "220ee920",
   "metadata": {},
   "source": [
    "19. Write a program to remove all vowels from a given string.\n"
   ]
  },
  {
   "cell_type": "code",
   "execution_count": 59,
   "id": "73be3f14",
   "metadata": {},
   "outputs": [],
   "source": [
    "vow = [\"a\",\"e\",\"i\",\"o\",\"u\"]\n",
    "def remove_vowel(str):\n",
    "    for i in str:\n",
    "        if i in vow:\n",
    "            str = str.replace(i,\"\")\n",
    "    return str"
   ]
  },
  {
   "cell_type": "code",
   "execution_count": 60,
   "id": "51160731",
   "metadata": {},
   "outputs": [
    {
     "data": {
      "text/plain": [
       "'ppl'"
      ]
     },
     "execution_count": 60,
     "metadata": {},
     "output_type": "execute_result"
    }
   ],
   "source": [
    "remove_vowel(\"apple\")"
   ]
  },
  {
   "cell_type": "markdown",
   "id": "d63d7b51",
   "metadata": {},
   "source": [
    "20. Implement a function to reverse the order of words in a given sentence."
   ]
  },
  {
   "cell_type": "code",
   "execution_count": 76,
   "id": "f05ab7ea",
   "metadata": {},
   "outputs": [],
   "source": [
    "def reverse(sentence):\n",
    "    reversed_string = ''.join(reversed(sentence))\n",
    "    return reversed_string"
   ]
  },
  {
   "cell_type": "code",
   "execution_count": 77,
   "id": "20cb5592",
   "metadata": {},
   "outputs": [
    {
     "data": {
      "text/plain": [
       "'unom si eman ym'"
      ]
     },
     "execution_count": 77,
     "metadata": {},
     "output_type": "execute_result"
    }
   ],
   "source": [
    "reverse(\"my name is monu\")"
   ]
  },
  {
   "cell_type": "markdown",
   "id": "2cb81ee3",
   "metadata": {},
   "source": [
    "22. Implement a function to find the first non-repeating character in a string.\n"
   ]
  },
  {
   "cell_type": "code",
   "execution_count": 90,
   "id": "785f6807",
   "metadata": {},
   "outputs": [],
   "source": [
    "def first_nonrepeat(str):\n",
    "    l = [str[0]]\n",
    "    for i in (1,len(str)):\n",
    "        if str[i] not in l:\n",
    "            return f\"first non repatative is::: {l[-1]}\"\n",
    "        else:\n",
    "            l.append(i)\n",
    "               \n",
    "    "
   ]
  },
  {
   "cell_type": "code",
   "execution_count": 92,
   "id": "e8faf51b",
   "metadata": {},
   "outputs": [
    {
     "data": {
      "text/plain": [
       "'first non repatative is::: g'"
      ]
     },
     "execution_count": 92,
     "metadata": {},
     "output_type": "execute_result"
    }
   ],
   "source": [
    "first_nonrepeat(\"gana\")"
   ]
  },
  {
   "cell_type": "markdown",
   "id": "0fc776fa",
   "metadata": {},
   "source": [
    "23. Write a program to find the prime factors of a given number."
   ]
  },
  {
   "cell_type": "code",
   "execution_count": 126,
   "id": "9ef5ada3",
   "metadata": {},
   "outputs": [],
   "source": [
    "def find_prime_factors(number):\n",
    "    factors = []\n",
    "\n",
    "    # Find all occurrences of 2 as a factor\n",
    "    while number % 2 == 0:\n",
    "        factors.append(2)\n",
    "        number //= 2\n",
    "\n",
    "    # Check for factors starting from 3 up to the square root of the number\n",
    "    # Increment by 2 to consider only odd numbers\n",
    "    for i in range(3, int(number**0.5) + 1, 2):\n",
    "        while number % i == 0:\n",
    "            factors.append(i)\n",
    "            number //= i\n",
    "\n",
    "    # If the number is still greater than 2, it is a prime factor itself\n",
    "    if number > 2:\n",
    "        factors.append(number)\n",
    "\n",
    "    return factors\n",
    "\n",
    "    "
   ]
  },
  {
   "cell_type": "code",
   "execution_count": 132,
   "id": "d31f21c0",
   "metadata": {},
   "outputs": [
    {
     "data": {
      "text/plain": [
       "[17]"
      ]
     },
     "execution_count": 132,
     "metadata": {},
     "output_type": "execute_result"
    }
   ],
   "source": [
    "find_prime_factors(17)"
   ]
  },
  {
   "cell_type": "markdown",
   "id": "4e22831c",
   "metadata": {},
   "source": [
    "24. Implement a function to check if a given number is a power of two.\n"
   ]
  },
  {
   "cell_type": "code",
   "execution_count": 133,
   "id": "0f83fd44",
   "metadata": {},
   "outputs": [],
   "source": [
    "def is_power_of_two(number):\n",
    "    if number == 1:\n",
    "        return True\n",
    "    elif number <= 0 or number % 2 != 0:\n",
    "        return False\n",
    "    else:\n",
    "        return is_power_of_two(number // 2)\n"
   ]
  },
  {
   "cell_type": "markdown",
   "id": "0b17980e",
   "metadata": {},
   "source": [
    "25. Write a Python program to merge two sorted lists into a single sorted list.\n"
   ]
  },
  {
   "cell_type": "code",
   "execution_count": 136,
   "id": "f01cd968",
   "metadata": {},
   "outputs": [],
   "source": [
    "def merge_sorted_lists(list1, list2):\n",
    "    merged_list = []\n",
    "\n",
    "    # Indices for traversing list1 and list2\n",
    "    i = j = 0\n",
    "\n",
    "    # Merge the two lists into a single sorted list\n",
    "    while i < len(list1) and j < len(list2):\n",
    "        if list1[i] <= list2[j]:\n",
    "            merged_list.append(list1[i])\n",
    "            i += 1\n",
    "        else:\n",
    "            merged_list.append(list2[j])\n",
    "            j += 1\n",
    "\n",
    "    # Append the remaining elements from list1, if any\n",
    "    while i < len(list1):\n",
    "        merged_list.append(list1[i])\n",
    "        i += 1\n",
    "\n",
    "    # Append the remaining elements from list2, if any\n",
    "    while j < len(list2):\n",
    "        merged_list.append(list2[j])\n",
    "        j += 1\n",
    "\n",
    "    return merged_list\n"
   ]
  },
  {
   "cell_type": "markdown",
   "id": "bdb2d07c",
   "metadata": {},
   "source": [
    "26. Implement a function to find the mode of a list of numbers.\n"
   ]
  },
  {
   "cell_type": "code",
   "execution_count": 140,
   "id": "1b4ffc8b",
   "metadata": {},
   "outputs": [],
   "source": [
    "def find_mode(numbers):\n",
    "    # Create a dictionary to count the occurrences of each number\n",
    "    count_dict = {}\n",
    "\n",
    "    # Count the occurrences of each number\n",
    "    for num in numbers:\n",
    "        count_dict[num] = count_dict.get(num, 0) + 1\n",
    "\n",
    "    # Find the maximum count\n",
    "    max_count = max(count_dict.values())\n",
    "\n",
    "    # Find all numbers with the maximum count\n",
    "    mode = [num for num, count in count_dict.items() if count == max_count]\n",
    "\n",
    "    return mode\n"
   ]
  },
  {
   "cell_type": "code",
   "execution_count": 141,
   "id": "4204d05c",
   "metadata": {},
   "outputs": [
    {
     "data": {
      "text/plain": [
       "[9]"
      ]
     },
     "execution_count": 141,
     "metadata": {},
     "output_type": "execute_result"
    }
   ],
   "source": [
    "find_mode([1,8,9,8,9,7,6,8,9,9,999])"
   ]
  },
  {
   "cell_type": "markdown",
   "id": "165ac107",
   "metadata": {},
   "source": [
    "27. Write a program to find the greatest common divisor (GCD) of two numbers."
   ]
  },
  {
   "cell_type": "code",
   "execution_count": 142,
   "id": "c1546e50",
   "metadata": {},
   "outputs": [],
   "source": [
    "def find_gcd(a, b):\n",
    "    while b != 0:\n",
    "        a, b = b, a % b\n",
    "\n",
    "    return a"
   ]
  },
  {
   "cell_type": "code",
   "execution_count": 145,
   "id": "ac8a34ff",
   "metadata": {},
   "outputs": [
    {
     "data": {
      "text/plain": [
       "9"
      ]
     },
     "execution_count": 145,
     "metadata": {},
     "output_type": "execute_result"
    }
   ],
   "source": [
    "find_gcd(9,45)"
   ]
  },
  {
   "cell_type": "markdown",
   "id": "f84f2319",
   "metadata": {},
   "source": [
    "28. Implement a function to calculate the square root of a given number."
   ]
  },
  {
   "cell_type": "code",
   "execution_count": 146,
   "id": "b52677d9",
   "metadata": {},
   "outputs": [],
   "source": [
    "def square_root(number, epsilon=1e-6):\n",
    "    if number < 0:\n",
    "        raise ValueError(\"Square root is not defined for negative numbers.\")\n",
    "\n",
    "    # Initial approximation for the square root\n",
    "    guess = number / 2\n",
    "\n",
    "    while abs(guess * guess - number) > epsilon:\n",
    "        guess = (guess + number / guess) / 2\n",
    "\n",
    "    return round(guess,2)\n"
   ]
  },
  {
   "cell_type": "code",
   "execution_count": 147,
   "id": "99921b54",
   "metadata": {},
   "outputs": [
    {
     "data": {
      "text/plain": [
       "2.65"
      ]
     },
     "execution_count": 147,
     "metadata": {},
     "output_type": "execute_result"
    }
   ],
   "source": [
    "square_root(7)"
   ]
  },
  {
   "cell_type": "markdown",
   "id": "cff4f578",
   "metadata": {},
   "source": [
    "30. Implement a function to find the minimum element in a rotated sorted list."
   ]
  },
  {
   "cell_type": "code",
   "execution_count": 148,
   "id": "6859c601",
   "metadata": {},
   "outputs": [],
   "source": [
    "def find_min_in_rotated_sorted_list(nums):\n",
    "    left = 0\n",
    "    right = len(nums) - 1\n",
    "\n",
    "    while left < right:\n",
    "        mid = left + (right - left) // 2\n",
    "\n",
    "        # Check if the mid element is greater than the rightmost element\n",
    "        # If true, the minimum element lies in the right half of the list\n",
    "        if nums[mid] > nums[right]:\n",
    "            left = mid + 1\n",
    "        # If false, the minimum element lies in the left half of the list\n",
    "        else:\n",
    "            right = mid\n",
    "\n",
    "    # At the end of the loop, left and right will converge to the minimum element\n",
    "    return nums[left]\n"
   ]
  },
  {
   "cell_type": "markdown",
   "id": "4aa269b9",
   "metadata": {},
   "source": [
    "31. Write a program to find the sum of all even numbers in a list.\n"
   ]
  },
  {
   "cell_type": "code",
   "execution_count": 149,
   "id": "f0527068",
   "metadata": {},
   "outputs": [],
   "source": [
    "def sum_of_even_numbers(numbers):\n",
    "    even_sum = 0\n",
    "\n",
    "    for num in numbers:\n",
    "        if num % 2 == 0:\n",
    "            even_sum += num\n",
    "\n",
    "    return even_sum"
   ]
  },
  {
   "cell_type": "code",
   "execution_count": 150,
   "id": "e036d582",
   "metadata": {},
   "outputs": [
    {
     "data": {
      "text/plain": [
       "14"
      ]
     },
     "execution_count": 150,
     "metadata": {},
     "output_type": "execute_result"
    }
   ],
   "source": [
    "sum_of_even_numbers([1,5,6,7,8,9])"
   ]
  },
  {
   "cell_type": "markdown",
   "id": "d85d135f",
   "metadata": {},
   "source": [
    "32. Implement a function to calculate the power of a number using recursion."
   ]
  },
  {
   "cell_type": "code",
   "execution_count": 151,
   "id": "8425f70f",
   "metadata": {},
   "outputs": [],
   "source": [
    "def power(base, exponent):\n",
    "    if exponent == 0:\n",
    "        return 1\n",
    "    elif exponent < 0:\n",
    "        return 1 / power(base, -exponent)\n",
    "    else:\n",
    "        return base * power(base, exponent - 1)"
   ]
  },
  {
   "cell_type": "code",
   "execution_count": 152,
   "id": "e6a3e5d7",
   "metadata": {},
   "outputs": [
    {
     "data": {
      "text/plain": [
       "256"
      ]
     },
     "execution_count": 152,
     "metadata": {},
     "output_type": "execute_result"
    }
   ],
   "source": [
    "power(2,8)"
   ]
  },
  {
   "cell_type": "markdown",
   "id": "e0d3e627",
   "metadata": {},
   "source": [
    "33. Write a Python program to remove duplicates from a list while preserving the order.\n"
   ]
  },
  {
   "cell_type": "code",
   "execution_count": 153,
   "id": "adaf2451",
   "metadata": {},
   "outputs": [],
   "source": [
    "def remove_duplicates_preserve_order(lst):\n",
    "    seen = set()\n",
    "    result = []\n",
    "\n",
    "    for item in lst:\n",
    "        if item not in seen:\n",
    "            seen.add(item)\n",
    "            result.append(item)\n",
    "\n",
    "    return result"
   ]
  },
  {
   "cell_type": "markdown",
   "id": "2fe9dd0b",
   "metadata": {},
   "source": [
    "34. Implement a function to find the longest common prefix among a list of strings.\n"
   ]
  },
  {
   "cell_type": "code",
   "execution_count": 154,
   "id": "2c042205",
   "metadata": {},
   "outputs": [],
   "source": [
    "def find_longest_common_prefix(strings):\n",
    "    if not strings:\n",
    "        return \"\"\n",
    "\n",
    "    prefix = strings[0]\n",
    "\n",
    "    for string in strings[1:]:\n",
    "        while string[:len(prefix)] != prefix:\n",
    "            prefix = prefix[:-1]\n",
    "            if not prefix:\n",
    "                return \"\"\n",
    "\n",
    "    return prefix\n"
   ]
  },
  {
   "cell_type": "markdown",
   "id": "d65c7732",
   "metadata": {},
   "source": [
    "35. Write a program to check if a given number is a perfect square.\n"
   ]
  },
  {
   "cell_type": "code",
   "execution_count": 155,
   "id": "bdf957ba",
   "metadata": {},
   "outputs": [],
   "source": [
    "def is_perfect_square(number):\n",
    "    if number < 0:\n",
    "        return False\n",
    "\n",
    "    # Use binary search to find the square root\n",
    "    left = 0\n",
    "    right = number\n",
    "\n",
    "    while left <= right:\n",
    "        mid = left + (right - left) // 2\n",
    "        square = mid * mid\n",
    "\n",
    "        if square == number:\n",
    "            return True\n",
    "        elif square < number:\n",
    "            left = mid + 1\n",
    "        else:\n",
    "            right = mid - 1\n",
    "\n",
    "    return False\n"
   ]
  },
  {
   "cell_type": "code",
   "execution_count": 159,
   "id": "7a3b7fe5",
   "metadata": {},
   "outputs": [
    {
     "data": {
      "text/plain": [
       "True"
      ]
     },
     "execution_count": 159,
     "metadata": {},
     "output_type": "execute_result"
    }
   ],
   "source": [
    "is_perfect_square(49)"
   ]
  },
  {
   "cell_type": "markdown",
   "id": "772ce5c4",
   "metadata": {},
   "source": [
    "36. Implement a function to calculate the product of all elements in a list."
   ]
  },
  {
   "cell_type": "code",
   "execution_count": 160,
   "id": "d77b1334",
   "metadata": {},
   "outputs": [],
   "source": [
    "def calculate_product(numbers):\n",
    "    product = 1\n",
    "\n",
    "    for num in numbers:\n",
    "        product *= num\n",
    "\n",
    "    return product\n"
   ]
  },
  {
   "cell_type": "markdown",
   "id": "03f69c10",
   "metadata": {},
   "source": [
    "37. Write a Python program to reverse the order of words in a sentence while preserving the word order.\n"
   ]
  },
  {
   "cell_type": "code",
   "execution_count": 161,
   "id": "5b3d4be5",
   "metadata": {},
   "outputs": [],
   "source": [
    "def reverse_words(sentence):\n",
    "    words = sentence.split()\n",
    "    reversed_words = words[::-1]\n",
    "    reversed_sentence = ' '.join(reversed_words)\n",
    "    return reversed_sentence\n"
   ]
  },
  {
   "cell_type": "markdown",
   "id": "d6951818",
   "metadata": {},
   "source": [
    "38. Implement a function to find the missing number in a given list of consecutive numbers.\n"
   ]
  },
  {
   "cell_type": "code",
   "execution_count": 162,
   "id": "ffc554a3",
   "metadata": {},
   "outputs": [],
   "source": [
    "def find_missing_number(numbers):\n",
    "    n = len(numbers) + 1\n",
    "    total_sum = (n * (n + 1)) // 2\n",
    "    actual_sum = sum(numbers)\n",
    "    missing_number = total_sum - actual_sum\n",
    "    return missing_number\n"
   ]
  },
  {
   "cell_type": "markdown",
   "id": "f9809117",
   "metadata": {},
   "source": [
    "39. Write a program to find the sum of digits of a given number."
   ]
  },
  {
   "cell_type": "code",
   "execution_count": 163,
   "id": "5573ccf8",
   "metadata": {},
   "outputs": [],
   "source": [
    "def sum_of_digits(number):\n",
    "    sum = 0\n",
    "    while number > 0:\n",
    "        digit = number % 10\n",
    "        sum += digit\n",
    "        number //= 10\n",
    "    return sum\n"
   ]
  },
  {
   "cell_type": "markdown",
   "id": "298a6f85",
   "metadata": {},
   "source": [
    "40. Implement a function to check if a given string is a valid palindrome considering case sensitivity.\n"
   ]
  },
  {
   "cell_type": "code",
   "execution_count": 164,
   "id": "af5bb0f7",
   "metadata": {},
   "outputs": [],
   "source": [
    "def is_valid_palindrome(string):\n",
    "    # Remove non-alphanumeric characters and convert to lowercase\n",
    "    alphanumeric_string = ''.join(c.lower() for c in string if c.isalnum())\n",
    "\n",
    "    # Check if the alphanumeric string is equal to its reverse\n",
    "    return alphanumeric_string == alphanumeric_string[::-1]"
   ]
  },
  {
   "cell_type": "markdown",
   "id": "c1cae101",
   "metadata": {},
   "source": [
    "41. Write a Python program to find the smallest missing positive integer in a list.\n"
   ]
  },
  {
   "cell_type": "code",
   "execution_count": 165,
   "id": "456ad3ae",
   "metadata": {},
   "outputs": [],
   "source": [
    "def find_smallest_missing_positive_integer(nums):\n",
    "    # Separate positive integers from non-positive integers\n",
    "    positive_nums = [num for num in nums if num > 0]\n",
    "\n",
    "    # Mark the presence of positive integers using the index\n",
    "    n = len(positive_nums)\n",
    "    for i in range(n):\n",
    "        num = abs(positive_nums[i])\n",
    "        if num <= n:\n",
    "            positive_nums[num - 1] = -abs(positive_nums[num - 1])\n",
    "\n",
    "    # Find the first index that remains positive\n",
    "    for i in range(n):\n",
    "        if positive_nums[i] > 0:\n",
    "            return i + 1\n",
    "\n",
    "    # If all indices are marked, return the next positive integer\n",
    "    return n + 1\n"
   ]
  },
  {
   "cell_type": "markdown",
   "id": "c0ed58af",
   "metadata": {},
   "source": [
    "42. Implement a function to find the longest palindrome substring in a given string."
   ]
  },
  {
   "cell_type": "code",
   "execution_count": 166,
   "id": "efb9216e",
   "metadata": {},
   "outputs": [],
   "source": [
    "def longest_palindrome_substring(string):\n",
    "    n = len(string)\n",
    "    max_length = 0\n",
    "    start_index = 0\n",
    "\n",
    "    # Helper function to expand around center\n",
    "    def expand_around_center(left, right):\n",
    "        while left >= 0 and right < n and string[left] == string[right]:\n",
    "            left -= 1\n",
    "            right += 1\n",
    "        return right - left - 1\n",
    "\n",
    "    for i in range(n):\n",
    "        length_odd = expand_around_center(i, i)\n",
    "        length_even = expand_around_center(i, i + 1)\n",
    "        length = max(length_odd, length_even)\n",
    "\n",
    "        if length > max_length:\n",
    "            max_length = length\n",
    "            start_index = i - (length - 1) // 2\n",
    "\n",
    "    return string[start_index : start_index + max_length]\n"
   ]
  },
  {
   "cell_type": "markdown",
   "id": "78a2c459",
   "metadata": {},
   "source": [
    "43. Write a program to find the number of occurrences of a given element in a list."
   ]
  },
  {
   "cell_type": "code",
   "execution_count": 167,
   "id": "115bf7fa",
   "metadata": {},
   "outputs": [],
   "source": [
    "def count_occurrences(numbers, target):\n",
    "    count = 0\n",
    "\n",
    "    for num in numbers:\n",
    "        if num == target:\n",
    "            count += 1\n",
    "\n",
    "    return count\n"
   ]
  },
  {
   "cell_type": "markdown",
   "id": "4024d0b0",
   "metadata": {},
   "source": [
    "44. Implement a function to check if a given number is a perfect number.\n"
   ]
  },
  {
   "cell_type": "code",
   "execution_count": 168,
   "id": "48ba790c",
   "metadata": {},
   "outputs": [],
   "source": [
    "def is_perfect_number(number):\n",
    "    if number <= 0:\n",
    "        return False\n",
    "\n",
    "    divisor_sum = sum(divisor for divisor in range(1, number) if number % divisor == 0)\n",
    "    return divisor_sum == number\n"
   ]
  },
  {
   "cell_type": "markdown",
   "id": "b8fe9866",
   "metadata": {},
   "source": [
    "45. Write a Python program to remove all duplicates from a string.\n"
   ]
  },
  {
   "cell_type": "code",
   "execution_count": 169,
   "id": "1e3b1787",
   "metadata": {},
   "outputs": [],
   "source": [
    "def remove_duplicates(string):\n",
    "    unique_chars = []\n",
    "    result = \"\"\n",
    "\n",
    "    for char in string:\n",
    "        if char not in unique_chars:\n",
    "            unique_chars.append(char)\n",
    "            result += char\n",
    "\n",
    "    return result"
   ]
  },
  {
   "cell_type": "markdown",
   "id": "cc12dbbf",
   "metadata": {},
   "source": [
    "46. Implement a function to find the first missing positive"
   ]
  },
  {
   "cell_type": "code",
   "execution_count": 170,
   "id": "6db3abed",
   "metadata": {},
   "outputs": [],
   "source": [
    "def find_first_missing_positive(nums):\n",
    "    n = len(nums)\n",
    "\n",
    "    # Step 1: Mark non-positive integers as irrelevant\n",
    "    for i in range(n):\n",
    "        if nums[i] <= 0:\n",
    "            nums[i] = n + 1\n",
    "\n",
    "    # Step 2: Mark the presence of positive integers using indices\n",
    "    for i in range(n):\n",
    "        num = abs(nums[i])\n",
    "        if num <= n:\n",
    "            nums[num - 1] = -abs(nums[num - 1])\n",
    "\n",
    "    # Step 3: Find the first unmarked index\n",
    "    for i in range(n):\n",
    "        if nums[i] > 0:\n",
    "            return i + 1\n",
    "\n",
    "    # Step 4: If all indices are marked, return the next positive integer\n",
    "    return n + 1\n"
   ]
  },
  {
   "cell_type": "code",
   "execution_count": 172,
   "id": "6ce75dc0",
   "metadata": {},
   "outputs": [
    {
     "data": {
      "text/plain": [
       "4"
      ]
     },
     "execution_count": 172,
     "metadata": {},
     "output_type": "execute_result"
    }
   ],
   "source": [
    "find_first_missing_positive([0,1,2,3])"
   ]
  },
  {
   "cell_type": "code",
   "execution_count": null,
   "id": "a78ca246",
   "metadata": {},
   "outputs": [],
   "source": []
  }
 ],
 "metadata": {
  "kernelspec": {
   "display_name": "Python 3 (ipykernel)",
   "language": "python",
   "name": "python3"
  },
  "language_info": {
   "codemirror_mode": {
    "name": "ipython",
    "version": 3
   },
   "file_extension": ".py",
   "mimetype": "text/x-python",
   "name": "python",
   "nbconvert_exporter": "python",
   "pygments_lexer": "ipython3",
   "version": "3.10.9"
  }
 },
 "nbformat": 4,
 "nbformat_minor": 5
}
