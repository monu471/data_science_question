{
 "cells": [
  {
   "cell_type": "markdown",
   "id": "e5f2c973",
   "metadata": {},
   "source": [
    "Choose a project from an internship portal and try to write a HLD and LLD based on the sample given in your portal for a respective project  "
   ]
  },
  {
   "cell_type": "markdown",
   "id": "fb9db17c",
   "metadata": {},
   "source": [
    "[Link hld ](https://docs.google.com/document/d/1nzknSlYQPqgMly1u5l0fAxtlyRIXmVFS/edit?usp=sharing&ouid=110775532685146947294&rtpof=true&sd=true)\n",
    "\n",
    "\n",
    "\n",
    "[Link lld](https://docs.google.com/document/d/1nzknSlYQPqgMly1u5l0fAxtlyRIXmVFS/edit?usp=sharing&ouid=110775532685146947294&rtpof=true&sd=true)\n",
    "\n"
   ]
  },
  {
   "cell_type": "code",
   "execution_count": null,
   "id": "fae062bb",
   "metadata": {},
   "outputs": [],
   "source": []
  }
 ],
 "metadata": {
  "kernelspec": {
   "display_name": "Python 3 (ipykernel)",
   "language": "python",
   "name": "python3"
  },
  "language_info": {
   "codemirror_mode": {
    "name": "ipython",
    "version": 3
   },
   "file_extension": ".py",
   "mimetype": "text/x-python",
   "name": "python",
   "nbconvert_exporter": "python",
   "pygments_lexer": "ipython3",
   "version": "3.10.9"
  }
 },
 "nbformat": 4,
 "nbformat_minor": 5
}
